{
 "cells": [
  {
   "cell_type": "markdown",
   "id": "c87543a0-7bb6-45f5-adbc-b605423dc4d7",
   "metadata": {},
   "source": [
    "# ICBC 2023 Lower Mainland vehicle dataset"
   ]
  },
  {
   "cell_type": "markdown",
   "id": "7725930a-ca39-4c2d-bbf8-f133de1ee4d9",
   "metadata": {},
   "source": [
    "## Source"
   ]
  },
  {
   "cell_type": "code",
   "execution_count": 26,
   "id": "b0f4abf1-4ea1-4e12-9a01-1bb3fc29e4d3",
   "metadata": {},
   "outputs": [],
   "source": [
    "import matplotlib.pyplot as plt\n",
    "import numpy as np\n",
    "import os\n",
    "import pandas as pd\n",
    "import seaborn as sns"
   ]
  },
  {
   "cell_type": "code",
   "execution_count": 27,
   "id": "9155c889-3396-4053-843d-b3fedbf79b56",
   "metadata": {},
   "outputs": [
    {
     "name": "stdout",
     "output_type": "stream",
     "text": [
      "  Veh Pop - Criteria Selector Vehicle Use Anti Theft Device Indicator  \\\n",
      "0              Lower Mainland    Business                          No   \n",
      "1              Lower Mainland    Business                          No   \n",
      "\n",
      "             Body Style Electric_Vehicle_Indicator Fleet Vehicle Indicator  \\\n",
      "0         Fourdoorsedan                         No                      No   \n",
      "1  Fourdoorstationwagon                         No                      No   \n",
      "\n",
      "  Fuel Type Hybrid Vehicle Indicator        Make                Model  \\\n",
      "0    Diesel                       No  VOLKSWAGEN  RABBIT OTHER MODELS   \n",
      "1    Diesel                       No      TOYOTA   LAND CRUISER WAGON   \n",
      "\n",
      "   Model Year Municipality             Owner Type          Region  \\\n",
      "0        1978      Langley  External organization  Lower Mainland   \n",
      "1        1991      Burnaby  External organization  Lower Mainland   \n",
      "\n",
      "   Vehicle Count  \n",
      "0              1  \n",
      "1              1  \n",
      "This dataset contains the following columns ['Veh Pop - Criteria Selector', 'Vehicle Use', 'Anti Theft Device Indicator', 'Body Style', 'Electric_Vehicle_Indicator', 'Fleet Vehicle Indicator', 'Fuel Type', 'Hybrid Vehicle Indicator', 'Make', 'Model', 'Model Year', 'Municipality', 'Owner Type', 'Region', 'Vehicle Count']\n",
      "Data set shape 719144 rows x 15 cols\n"
     ]
    }
   ],
   "source": [
    " # Check if file path is valid.\n",
    "file_path = './icbc/Vehicle Population - 2023 Passenger Vehicles_Full _data.csv'\n",
    "if not os.path.isfile(file_path):\n",
    "    fnf_err = f'{file_path} not found.'\n",
    "    raise FileNotFoundError(fnf_err)\n",
    "\n",
    "vehicle_df = pd.read_csv(file_path)\n",
    "\n",
    "# Take a peek at the first couple of rows in the dataset.\n",
    "print(vehicle_df.head(2))\n",
    "\n",
    "dataset_columns = vehicle_df.columns.tolist()\n",
    "print(f\"This dataset contains the following columns {dataset_columns}\")\n",
    "\n",
    "num_rows, num_cols = vehicle_df.shape\n",
    "print(f\"Data set shape {num_rows} rows x {num_cols} cols\")"
   ]
  },
  {
   "cell_type": "markdown",
   "id": "8f1d3141-a9ef-4838-83ce-6e31252eddf9",
   "metadata": {},
   "source": [
    "# Initial comments\n",
    "This dataset contains redundant columns. We specifically set the criteria to Lower Mainland vehicles on ICBC's data portal. We can get rid of the columns 'Veh Pop - Criteria Selector' and 'Region'."
   ]
  },
  {
   "cell_type": "code",
   "execution_count": 28,
   "id": "dbabeeb8-227b-4f7e-a798-e06d217adc5a",
   "metadata": {},
   "outputs": [
    {
     "name": "stdout",
     "output_type": "stream",
     "text": [
      "This dataset contains the following columns ['Vehicle Use', 'Anti Theft Device Indicator', 'Body Style', 'Electric_Vehicle_Indicator', 'Fleet Vehicle Indicator', 'Fuel Type', 'Hybrid Vehicle Indicator', 'Make', 'Model', 'Model Year', 'Municipality', 'Owner Type', 'Vehicle Count']\n",
      "Data set shape 719144 rows x 13 cols\n"
     ]
    }
   ],
   "source": [
    "vehicle_df.drop(['Veh Pop - Criteria Selector', 'Region'], axis=1, inplace=True)\n",
    "\n",
    "dataset_columns = vehicle_df.columns.tolist()\n",
    "print(f\"This dataset contains the following columns {dataset_columns}\")\n",
    "\n",
    "num_rows, num_cols = vehicle_df.shape\n",
    "print(f\"Data set shape {num_rows} rows x {num_cols} cols\")\n",
    "assert num_cols == 13, \"Columns delete failed.\""
   ]
  },
  {
   "cell_type": "markdown",
   "id": "a8249297-444d-4372-87fe-3ada505e5d61",
   "metadata": {},
   "source": [
    "# Exploratory Data Analysis\n",
    "Here we take a quick look at each column to see if there's any obvious redundancies (if all values for col C are 'xyz', then there's isn't much to be investigated in col C)"
   ]
  },
  {
   "cell_type": "code",
   "execution_count": 29,
   "id": "c023c5a4-357e-44e2-af30-cd1b044a7c6a",
   "metadata": {},
   "outputs": [
    {
     "name": "stdout",
     "output_type": "stream",
     "text": [
      "Examining column Vehicle Use\n",
      "3\n",
      "Examining column Anti Theft Device Indicator\n",
      "2\n",
      "Examining column Body Style\n",
      "24\n",
      "Examining column Electric_Vehicle_Indicator\n",
      "2\n",
      "Examining column Fleet Vehicle Indicator\n",
      "2\n",
      "Examining column Fuel Type\n",
      "18\n",
      "Examining column Hybrid Vehicle Indicator\n",
      "2\n",
      "Examining column Make\n",
      "427\n",
      "Examining column Model\n",
      "9496\n",
      "Examining column Model Year\n",
      "116\n",
      "Examining column Municipality\n",
      "54\n",
      "Examining column Owner Type\n",
      "2\n",
      "Examining column Vehicle Count\n",
      "284\n"
     ]
    }
   ],
   "source": [
    "for c in dataset_columns:\n",
    "    print(f\"Examining column {c}\")\n",
    "    # Find unique values in this column.\n",
    "    uniques = vehicle_df[c].unique()\n",
    "    print(len(uniques))"
   ]
  },
  {
   "cell_type": "markdown",
   "id": "b1463cf4-eaf0-4072-8bbf-262b29130aa4",
   "metadata": {},
   "source": [
    "# Comments\n",
    "- There are 3 categories for vehicle use. We'll have to dig into that later.\n",
    "- There are 2 categories for anti theft device indicator. This is likely a Boolean field. A vehicle either has an anti theft device or it does not.\n",
    "- There are 24 body styles. We'll have to dig into that later.\n",
    "- There are 2 categories for electric vehicle indicator. This must be a Boolean field for obvious reasons. We'll have to check if a hybrid (Battery Electric Vehicle - BEV) and a PHEV (Plug-in Electric Vehicle) are declared as electric vehicles or not.\n",
    "- There are 2 categories for fleet vehicle indicator. This is definitely a Boolean field.\n",
    "- There are 18 categories for fuel type, which is more than we anticipated (diesel, gasoline, electric, LPG).\n",
    "- There are 427 vehicle makes, which seems too high a number. We'll have to dig into that - are the makes misspelled or sometimes present as acronyms and sometimes in full?\n",
    "- There are 9496 models. This seems slightly too many. We'll have to take a look later.\n",
    "- There are 116 model years, which is unexpected. We don't expect the years to span more than 50/60 years.\n",
    "- There are 54 municipalities, which is expected for the Lower Mainland.\n",
    "- There are 2 types of owners.\n",
    "- At most, there are 284 different values for vehicle count."
   ]
  },
  {
   "cell_type": "code",
   "execution_count": 30,
   "id": "44284ee7-8900-44d0-b366-daac47fc0c72",
   "metadata": {},
   "outputs": [
    {
     "name": "stdout",
     "output_type": "stream",
     "text": [
      "Unique values for vehicle use = ['Business' 'Other' 'Personal']\n",
      "Anti Theft Device Indicator values =['No' 'Yes']\n",
      "Body styles = ['Fourdoorsedan' 'Fourdoorstationwagon' 'Twodoorfastback'\n",
      " 'Twodoorstationwagon' 'Dualpurpose' 'Fourdoorcoupe' 'Fourdoorfastback'\n",
      " 'Hatchback' 'Twodoorconvertible' 'Twodoorcoupe' 'Twodoorhardtop'\n",
      " 'Snowmobile' 'Twodoorsedan' 'Wheeledatv' 'Lowspeedvehicle'\n",
      " 'Fourdoorhardtop' 'Golfcart' 'Limousinepassenger' 'Sportconvertible'\n",
      " 'Threewheeled' 'Fourdoorconvertible' 'Workutilitypassengervehicle'\n",
      " 'Dunebuggy' 'Amphibiousvehicle']\n",
      "Electric vehicle indicator =['No' 'Yes']\n",
      "Fleet vehicle indicator = ['No' 'Yes']\n",
      "Fuel types = ['Diesel' 'Gasoline' 'Electric' 'Gasoline Electric' 'Multifuels' 'Butane'\n",
      " 'Diesel Natural Gas' 'Gasoline Natural Gas' 'Natural Gas' 'Propane'\n",
      " 'Diesel Butane' 'Gasoline Propane' 'Other' 'Diesel Propane' 'Alcohol'\n",
      " 'Gasoline Alcohol' 'Hydrogen' 'Propane Natural Gas']\n",
      " Hybrid vehicle indicator = ['No' 'Yes']\n"
     ]
    }
   ],
   "source": [
    "print(f\"Unique values for vehicle use = {vehicle_df['Vehicle Use'].unique()}\")\n",
    "print(f\"Anti Theft Device Indicator values ={vehicle_df['Anti Theft Device Indicator'].unique()}\")\n",
    "print(f\"Body styles = {vehicle_df['Body Style'].unique()}\")\n",
    "print(f\"Electric vehicle indicator ={vehicle_df['Electric_Vehicle_Indicator'].unique()}\")\n",
    "print(f\"Fleet vehicle indicator = {vehicle_df['Fleet Vehicle Indicator'].unique()}\")\n",
    "print(f\"Fuel types = {vehicle_df['Fuel Type'].unique()}\")\n",
    "print(f\" Hybrid vehicle indicator = {vehicle_df['Hybrid Vehicle Indicator'].unique()}\")"
   ]
  },
  {
   "cell_type": "markdown",
   "id": "ecd21b57-f57a-45a2-83a8-d4f42867a0e7",
   "metadata": {},
   "source": [
    "### Vehicle use\n",
    "### Anti theft device indicator\n",
    "As we suspected, the anti theft device indicator field is a Boolean one.\n",
    "### Body styles\n",
    "We initially thought that there will only be a few body styles: sedan, hatchback, station wagon, coupe, convertible, pick up truck, crossover/SUV.\n",
    "### Electric vehicle indicator\n",
    "This is indeed a Boolean field.\n",
    "### Fleet vehicle Indicator\n",
    "This is also a Boolean field.\n",
    "### Fuel types\n",
    "There are values which were not anticipated in this column, such as 'butane' and 'propane'\n",
    "### Hybrid vehicle indicator\n",
    "This is indeed a Boolean field. It would be interesting to see how this column correlates with the fuel type column."
   ]
  },
  {
   "cell_type": "code",
   "execution_count": 31,
   "id": "c757ca73-5518-4d9f-a88f-b108fbd803c7",
   "metadata": {},
   "outputs": [
    {
     "name": "stdout",
     "output_type": "stream",
     "text": [
      "oldest and newest are 1908, 2024\n",
      "Model years = [1978 1991 1997 1998 2006 2011 2005 1993 1994 2015 1964 1996 1999 2001\n",
      " 2003 2004 2007 2009 2010 2012 2014 2018 1995 2000 2002 2016 2017 1990\n",
      " 1992 1966 1972 1981 1930 1965 1968 1986 1963 1969 1976 1980 1988 1970\n",
      " 1971 1967 2013 2021 2019 2024 2023 2022 2020 2008 1989 1987 1935 1959\n",
      " 1962 1979 1955 1973 1983 1950 1951 1982 1984 1985 1949 1952 1953 1956\n",
      " 1957 1958 1960 1928 1954 1974 1923 1947 1977 1929 1936 1933 1932 1937\n",
      " 1938 1939 1946 1948 1942 1961 1926 1975 1931 1934 1941 1927 1915 1940\n",
      " 1924 1909 1913 1908 1912 1920 1916 1925 1921 1944 1911 1943 1910 1918\n",
      " 1917 1922 1945 1914]\n",
      "Missing years = []\n"
     ]
    }
   ],
   "source": [
    "model_years = vehicle_df['Model Year'].unique()\n",
    "oldest, newest = min(model_years), max(model_years)\n",
    "print(f\"oldest and newest are {oldest}, {newest}\")\n",
    "all_years = [_ for _ in range(oldest, newest+1)]\n",
    "print(f\"Model years = {model_years}\")\n",
    "missing_years = [_ for _ in all_years if _ not in all_years]\n",
    "print(f\"Missing years = {missing_years}\")"
   ]
  },
  {
   "cell_type": "code",
   "execution_count": 32,
   "id": "55353750-40af-4540-bf18-e13de80315af",
   "metadata": {},
   "outputs": [
    {
     "name": "stdout",
     "output_type": "stream",
     "text": [
      "municipalities = ['Langley' 'Burnaby' 'Vancouver' 'Port Coquitlam' 'Richmond' 'Surrey'\n",
      " 'Whistler' 'North Vancouver' 'Coquitlam' 'Chilliwack' 'New Westminster'\n",
      " 'Abbotsford' 'Mission' 'Halfmoon Bay' 'Bowen Island' 'Roberts Creek'\n",
      " 'Gibsons' 'Ubc' 'Cultus Lake' 'Maple Ridge' 'Delta' 'Squamish'\n",
      " 'Port Moody' 'Egmont' 'Pitt Meadows' 'Sechelt' 'Agassiz' 'West Vancouver'\n",
      " 'Hope' 'White Rock' 'Pemberton' 'Harrison Hot Springs' 'Furry Creek'\n",
      " 'Britannia Beach' 'Deroche' 'Harrison Lake' 'Chilliwack River Valley'\n",
      " 'Popkum' 'Lake Errock' 'Madeira Park' 'Lions Bay' 'Dewdney' 'Anmore'\n",
      " 'Hatzic' 'Belcarra' 'Pemberton Meadows' 'Yale' 'Columbia Valley'\n",
      " 'Garden Bay' 'Boston Bar' 'Lindell Beach' 'Sunshine Valley' 'Ruby Lake'\n",
      " 'Port Mellon']\n",
      "Owner type ['External organization' 'Person']\n"
     ]
    }
   ],
   "source": [
    "municipalities = vehicle_df['Municipality'].unique()\n",
    "print(f\"municipalities = {municipalities}\")\n",
    "\n",
    "print(f\"Owner type {vehicle_df['Owner Type'].unique()}\")"
   ]
  },
  {
   "cell_type": "markdown",
   "id": "ed1a26fa-0d20-46a8-86a6-90d522624c9d",
   "metadata": {},
   "source": [
    "## Data cleaning\n",
    "### About Makes\n",
    "We found out that there are 427 vehicle makes. This seems way to many. So let's check if there are any "
   ]
  },
  {
   "cell_type": "code",
   "execution_count": 33,
   "id": "ce5cb83e-28dd-46d0-8ef7-d1339225b160",
   "metadata": {},
   "outputs": [
    {
     "name": "stdout",
     "output_type": "stream",
     "text": [
      "upper case make length comparison True\n",
      "{'KAISER', 'HYUNDAI TRUCK/VAN', 'MERCEDES-BENZ TRUCK', 'CHEVROLET TRUCK/VAN', 'EXCALIBUR', 'MORGAN', 'SKI-D00', 'CF', 'SKI=DOO', 'MOBILITY VENTURES', 'JORDAN', 'U-BUILT', 'RILEY', 'ROLLSROYCE', 'DODGE/RAM', 'KIA', 'SC CARTS', 'BRP', 'LEYLAND', 'LEXUS TRUCK/VAN', 'BOMBARDIER', 'CATERHAM', 'ALVIS', 'ARGO', 'CAN EXPLOR', 'ARCTIC', 'PONTIAC', 'TRIUMPH', 'TRAILBLAZR', 'KINGQUAD', 'POLARIS', 'EGLMOTOR', 'EDSEL', 'JINYUN COU', 'MAGNUM', 'METEOR', 'BRICKLIN', 'PIERCE', 'SUNL', 'ASUNA', 'MERCEDES-BENZ', 'SEGWAY', 'UBUILT', 'AURORA', 'BENTLEY TRUCK/VAN', 'ILTIS', 'SUBARU TRUCK/VAN', 'KUBOTA', 'JOYNER', 'JIANGSU', 'BOBCAT', 'DODGE/RAM TRUCK/VAN', 'GEO', 'JAGUAR TRUCK/VAN', 'CANAM', 'TRACKER', 'FARGO', 'SINGER', 'RAZOR', 'TRACKERPTV', 'VPG', 'DATSUN/NISSAN', 'CATERPILAR', 'VOLVO', 'FERARRI', 'TATA', 'INFINITI', 'JOY', 'A.C.', 'CADDY', 'MOBI', 'HENRY J', 'BUGATTI', 'INTERNATIONAL', 'ARCTIC FOX', 'AUDI', 'ESSEX', 'TOYOTA TRUCK/VAN', 'ROLLS ROYCE', 'PONTIAC TRUCK/VAN', 'AMERICAN', 'WELCH', 'AMERICAN MOTORS', 'WESTFIELD', 'GLOBAL ELECTRIC MOTORS', 'RENEGADE', 'KAGAWA', 'SM', 'DAIHATSU', 'SHELBY AMERICAN', 'HUMBER', 'FREIGHTLINER', 'ARTIC', 'WOLSELEY', 'FERRARI', 'KODIAK', 'SKIDOO', 'MITSHU', 'CFMOTO', 'FIAT', 'GAS GAS', 'A BARFORD', 'BECK', 'FRANKLIN', 'LENCO', 'MAZDA', 'ZIMMER', 'MASERATI', 'PLARIS', 'DE SOTO', 'SKI DOO', 'BAJA', 'JD', 'VINFAST', 'FISKER', 'MERCER', 'SSANGYONG', 'WHIPPET', 'GORDON KEEBLE', 'HUSQVARNA', 'SUZUKI TRUCK/VAN', 'DIANA', 'SKIDO', 'ALFA ROMEO TRUCK/VAN', 'LAMBORGHINI', 'MIGI', 'CITROEN', 'ACURA TRUCK/VAN', 'MODIFIED-B', 'MERDECES', 'ZHEJIANG', 'AVGPCOUGAR', 'CANEV', 'INDUSTRIAL', 'DUCAR', 'HOMEBUILT', 'JOHN DEERE', 'ARCTIC CAT', 'TESLA TRUCK/VAN', 'CADILLAC TRUCK/VAN', 'DATSUN', 'TRACKERATV', 'MERKUR', 'SUZUKI', 'ARO', 'DYNASTY MOTORCAR', 'TRACKER AT', 'MERCEDSBNZ', 'SHAY', 'PLYMOUTH', 'OLDSMOBILE', 'CARDIAC', 'FORD TRUCK/VAN', 'SKI-DOO', 'KIA TRUCK/VAN', 'WIDE', 'MARQUIS', 'TUNDRA', 'SPORTSMAN', 'ROKETA', 'TAOTAO', 'CLASSIC', 'TAO TAO', 'MITSUBISHI', 'SUPERFORMA', 'BLAZER', 'EAGLE', 'JAGUAR', 'VFAST', 'SATURN TRUCK/VAN', 'SNOWMOBILE', 'RUSSELL', 'SCRAMBLER', 'BAD-BOY', 'ACADIAN', 'RANGER', 'HONDA', 'GRAY DORTS', 'APOLLO', 'LIFAN', 'MAHINDRA', 'TELSA', 'MERCEDES B', 'ALFA', 'LUCID', 'CONTINENTAL', 'HENRY', 'COMMANDER', 'KYMCO', 'KAWAS', 'MESSERSCHMIDT', 'CHRYSLER', 'HUZHOU DAI', 'KAWASAKE', 'BUICK', 'RELIANT', 'PUCH', 'TESLA', 'DAIMLER', 'BUICK TRUCK/VAN', 'TOOYTA', 'HUPMOBILE', 'MAZDA TRUCK/VAN', 'MAYBACH', 'JACOBSON', 'BUICK-MCL', 'ISUZU TRUCK/VAN', 'VAUXHALL', 'SAAB', 'RIVIAN', 'GENESIS TRUCK/VAN', 'GRAHAM', 'MP', 'CAPRI', 'GM', 'BORGWARD', 'PEERLESS', 'SATURN', 'HINDUSTAN', 'EUNOS', 'DELOREAN', 'STUTZ', 'LINCOLN TRUCK/VAN', 'TERYX', 'BOMBADIER', 'TOYOTA', 'CHEVEROLET', 'ODES', 'ALFA ROMEO', 'ALLARD', 'HISUN', 'TEM', 'ARIEL', 'SCION', 'JOHNDEERE', 'YAHMA', 'GAZ', 'CHRYSLER TRUCK/VAN', 'TOYOYA', 'SKODA', 'SMART', 'MINI', 'TRIHAWK', 'ISETTA', 'ARTIC CAT', 'WIDESCAPE', 'GIO', 'HUDSON', 'DODGE', 'TEXTRON', 'VOLKSRDSTR', 'SEARS', 'INTERMECCA', 'NISSAN TRUCK/VAN', 'VOLKSWAGEN TRUCK/VAN', 'LINCOLN', 'ASTON MARTIN', 'FACTORY FI', 'CHINA', 'SKI-D', 'GENESIS', 'PLYMOUTH TRUCK/VAN', 'SUBARU', 'MAX XTP', 'MAXI TAXI', 'BEAUMONT', 'HILLMAN', 'POLESTAR', 'OUTLANDER', 'MAHNDRA', 'REO', 'LAND ROVER', '1965 SHELB', 'RAM', 'FOREMAN', 'PACKARD', 'BIRKIN', 'LANCIA', 'AUSTIN', 'COBRA', 'LISTER', 'JIANGSU LI', 'MECEDES', 'GOLF CART', 'POCLAIN', 'HONDA TRUCK/VAN', 'AUBURN', 'SHINERAY', 'ZASTAVA', 'YAMAHA', 'REPLICAR', 'LAMBORGHIN', 'OPEL', 'PORSHE', 'SAAB TRUCK/VAN', 'WILDCAT', 'COROLLA', 'MODIFIED-A', 'FORD', 'GAZELE', 'YAHAMA', 'KAWASAKI', 'GEO TRUCK/VAN', 'SUNBEAM', 'SPORTSMEN', 'PORSCHE TRUCK/VAN', 'CLUB CAR', 'MITSHUBISH', 'ASTON MARTIN TRUCK/VAN', 'REPLIKIT', 'PLAYMOUTH', 'CMOTO', 'TVR', 'LOTUS', 'GAZELLE', 'ROLLS ROYC', 'NASH', 'MITSUBISHI TRUCK/VAN', 'ROLLS ROYCE TRUCK/VA', 'PANTHER', 'JENSEN', 'TOTOYA', 'LEXUS', 'BLAKELY', 'WILLYS', 'INTERNATIO', 'STEYR PUCH', 'MERCURY', 'MISTUBISHI', 'MERCEDES', 'LYNX', 'HMC', 'GRIZZLY', 'ASTON MART', 'TRACKER SX', 'AVANTI', 'GMC TRUCK/VAN', 'GL MOTOR', 'CLENET', 'HYUNDAI', 'CHERVOLET', 'RENAULT', 'NISSAN', 'LINHAI', 'TAO', 'AM GENERAL', 'CUTLASS', 'AMC', 'NORDIC', 'JINYUN C', 'INFINITI TRUCK/VAN', 'ARCTICCAT', 'SHELBY', 'JINYUN', 'JEEP', 'LADA', 'NSU', 'MONARCH', 'DKW', 'OUTBACK', 'AUDI TRUCK/VAN', 'MASERATI TRUCK/VAN', 'HUSABERG', 'JIANSHE', 'SHERP', 'CAN AM', 'LADA TRUCK/VAN', 'TALBOT', 'ALPHARD', 'BENTLEY', 'UBILT', 'DAYTONA', 'JINYUN CTY', 'BRISTOL', 'VOLKSWAGEN', 'OLDSMOBILE TRUCK/VAN', 'MG', 'LAGONDA', 'WOLVERINE', 'DURANT', 'THIOKOL', 'CHECKER', 'KTM', 'LASALLE', 'LIANGZI', 'PEUGEOT', 'CHEV', 'STUDEBAKER', 'BETA', 'DE TOMASO', 'BMW TRUCK/VAN', 'EGL MOTOR', 'WILLY', 'TORO', 'ROVER', 'CF MOTO', 'COLEMAN', 'BMW', 'MCLAREN', 'ODES-S13', 'CHEVROLET', 'SUMMIT', 'COMMER', 'MAVERICK', '2024', 'VOLVO TRUCK/VAN', 'PUMA', 'ANGLIA', 'KARMA', 'ACURA', 'ISUZU', 'HUMMER', 'UBILT32', 'GMC', 'LYNKS', 'CAN-AM', 'Z STAR', 'MERCURY TRUCK/VAN', 'YAM', 'MORRIS', 'CADILLAC', 'MODIFIED A', 'ARTONE', 'IMPERIAL', 'INTRM', 'PORSCHE', 'YUGO'}\n"
     ]
    }
   ],
   "source": [
    "makes = vehicle_df['Make'].unique()\n",
    "makes_lower = set(map(str.upper, makes)) # use a set to keep unique elements.\n",
    "print(f\"upper case make length comparison {len(makes_lower) == len(makes)}\")\n",
    "# converting to lower case didn't reduce the number of makes.\n",
    "print(makes_lower)"
   ]
  },
  {
   "cell_type": "code",
   "execution_count": 34,
   "id": "045fc3de-86a4-4c11-b859-22e1f54c1e46",
   "metadata": {},
   "outputs": [
    {
     "name": "stdout",
     "output_type": "stream",
     "text": [
      "Cleaned makes length = 402 and makes=array(['VOLKSWAGEN', 'TOYOTA', 'FORD TRUCK/VAN', 'LAND ROVER',\n",
      "       'AUDI TRUCK/VAN', 'SMART', 'MITSUBISHI', 'JEEP', 'FIAT', 'HYUNDAI',\n",
      "       'HONDA', 'FORD', 'ACURA', 'PONTIAC', 'NISSAN', 'ACURA TRUCK/VAN',\n",
      "       'CHEVROLET', 'KIA', 'LEXUS TRUCK/VAN', 'GMC TRUCK/VAN',\n",
      "       'CHEVROLET TRUCK/VAN', 'NISSAN TRUCK/VAN', 'TOYOTA TRUCK/VAN',\n",
      "       'DODGE/RAM TRUCK/VAN', 'HONDA TRUCK/VAN', 'SUBARU',\n",
      "       'HYUNDAI TRUCK/VAN', 'CHRYSLER TRUCK/VAN', 'KIA TRUCK/VAN',\n",
      "       'MERCEDES-BENZ TRUCK', 'CHRYSLER', 'DODGE/RAM', 'PLYMOUTH',\n",
      "       'MERCEDES-BENZ', 'BMW', 'YAMAHA', 'ARCTIC CAT', 'SKI-DOO',\n",
      "       'MASERATI', 'PORSCHE', 'LEXUS', 'SC CARTS', 'PORSCHE TRUCK/VAN',\n",
      "       'JAGUAR', 'INFINITI', 'BMW TRUCK/VAN', 'HUMMER',\n",
      "       'CADILLAC TRUCK/VAN', 'MAZDA TRUCK/VAN', 'INFINITI TRUCK/VAN',\n",
      "       'LINCOLN TRUCK/VAN', 'VOLVO TRUCK/VAN', 'JAGUAR TRUCK/VAN',\n",
      "       'VOLKSWAGEN TRUCK/VAN', 'AUDI', 'BUICK', 'MAZDA',\n",
      "       'SUZUKI TRUCK/VAN', 'BUICK TRUCK/VAN', 'PONTIAC TRUCK/VAN',\n",
      "       'GOLF CART', 'AUSTIN', 'ROVER', 'LINCOLN', 'TRIUMPH', 'CADILLAC',\n",
      "       'DODGE', 'KAWASAKI', 'POLARIS', 'CAN-AM', 'VOLVO',\n",
      "       'ISUZU TRUCK/VAN', 'MINI', 'MITSUBISHI TRUCK/VAN',\n",
      "       'TESLA TRUCK/VAN', 'TESLA', 'POLESTAR', 'RIVIAN', 'SAAB',\n",
      "       'ASTON MARTIN', 'LAMBORGHINI', 'ALFA ROMEO', 'MAHINDRA', 'BOBCAT',\n",
      "       'KUBOTA', 'ROLLS ROYCE', 'AMERICAN MOTORS', 'SUZUKI', 'RANGER',\n",
      "       'JOHN DEERE', 'CFMOTO', 'TEXTRON', 'TRACKER', 'WIDESCAPE',\n",
      "       'GENESIS TRUCK/VAN', 'FERRARI', 'LOTUS', 'DELOREAN', 'REPLIKIT',\n",
      "       'UBILT', 'MERCURY', 'EDSEL', 'STUDEBAKER', 'OLDSMOBILE',\n",
      "       'SATURN TRUCK/VAN', 'MG', 'PLYMOUTH TRUCK/VAN', 'SUBARU TRUCK/VAN',\n",
      "       'GEO TRUCK/VAN', 'OLDSMOBILE TRUCK/VAN', 'BENTLEY', 'SATURN',\n",
      "       'GMC', 'SCION', 'JACOBSON', 'CITROEN', 'BRP', 'SUNBEAM', 'GAZELLE',\n",
      "       'AUBURN', 'PACKARD', 'GENESIS', 'ISUZU', 'WILLYS', 'INTERNATIONAL',\n",
      "       'AM GENERAL', 'SKIDO', 'ROLLS ROYCE TRUCK/VA', 'MORRIS', 'HILLMAN',\n",
      "       'DKW', 'GIO', 'ARGO', 'CF MOTO', 'ILTIS', 'MASERATI TRUCK/VAN',\n",
      "       'EXCALIBUR', 'GORDON KEEBLE', 'MORGAN', 'BLAKELY', 'SHAY',\n",
      "       'JENSEN', 'LANCIA', 'PUMA', 'DAIHATSU', 'KAWASAKE', 'KTM', 'SHERP',\n",
      "       'LADA', 'ESSEX', 'PEUGEOT', 'MODIFIED-A', 'KAISER', 'EAGLE',\n",
      "       'BOMBARDIER', 'TRAILBLAZR', 'SUNL', 'HUSABERG', 'LYNKS', 'DIANA',\n",
      "       'MAGNUM', 'HUPMOBILE', 'PLAYMOUTH', 'HUDSON', 'MONARCH', 'JD',\n",
      "       'CAN AM', 'JIANSHE', 'LAGONDA', 'LYNX', 'APOLLO', 'WIDE', 'KAGAWA',\n",
      "       'MERCURY TRUCK/VAN', 'SAAB TRUCK/VAN', 'MCLAREN', 'ALVIS', 'GEO',\n",
      "       'THIOKOL', 'REPLICAR', 'CLUB CAR', 'NASH', 'WESTFIELD',\n",
      "       'LADA TRUCK/VAN', 'SKIDOO', 'SUMMIT', 'RILEY', 'PEERLESS',\n",
      "       'DE TOMASO', 'RENAULT', 'AVANTI', 'BAJA', 'ARCTIC', 'LINHAI',\n",
      "       'OUTBACK', 'TAO TAO', 'TAOTAO', 'ARTIC CAT', 'KYMCO', 'WILDCAT',\n",
      "       'HUSQVARNA', 'JORDAN', 'MERKUR', 'SNOWMOBILE', 'ARTIC', 'CHECKER',\n",
      "       'FARGO', 'MAHNDRA', 'BUICK-MCL', 'BENTLEY TRUCK/VAN', 'CATERPILAR',\n",
      "       'NORDIC', 'SKI DOO', 'MESSERSCHMIDT', 'LISTER', 'CARDIAC',\n",
      "       'CLASSIC', 'METEOR', 'AMERICAN', 'HOMEBUILT', 'JOYNER', 'GRIZZLY',\n",
      "       'ROKETA', 'RENEGADE', 'CANAM', 'PLARIS', 'UBUILT', 'TVR',\n",
      "       'DE SOTO', 'CAPRI', 'CLENET', 'ZIMMER', '1965 SHELB', 'KODIAK',\n",
      "       'HISUN', 'SKI-D00', 'COBRA', 'VOLKSRDSTR', 'DUCAR', 'ODES',\n",
      "       'Z STAR', 'KINGQUAD', 'MAX XTP', 'MERCER', 'LASALLE', 'GRAHAM',\n",
      "       'WOLSELEY', 'SINGER', 'STUTZ', 'BRICKLIN', 'SKI-D', 'UBILT32',\n",
      "       'DAYTONA', 'MODIFIED A', 'ODES-S13', 'OUTLANDER', 'ARCTIC FOX',\n",
      "       'TRIHAWK', 'FRANKLIN', 'BEAUMONT', 'LEYLAND', 'U-BUILT',\n",
      "       'WOLVERINE', 'BETA', 'EGL MOTOR', 'ZHEJIANG', 'JINYUN C', 'BLAZER',\n",
      "       'JINYUN', 'ALFA ROMEO TRUCK/VAN', 'DAIMLER', 'MIGI', 'AURORA',\n",
      "       'FOREMAN', 'BAD-BOY', 'LUCID', 'AVGPCOUGAR', 'INTERMECCA',\n",
      "       'CUTLASS', 'MP', 'SPORTSMAN', 'LIFAN', 'LIANGZI', 'A.C.',\n",
      "       'FACTORY FI', 'SPORTSMEN', 'JOY', 'CAN EXPLOR', 'HENRY', 'PUCH',\n",
      "       'SCRAMBLER', 'TEM', 'TERYX', 'POCLAIN', 'EGLMOTOR', 'CHINA',\n",
      "       'JIANGSU LI', 'CF', 'JINYUN COU', 'KAWAS', 'ARIEL', 'MAVERICK',\n",
      "       'SEGWAY', 'TATA', 'ROLLSROYCE', 'VPG', 'COLEMAN', 'SHINERAY',\n",
      "       'RUSSELL', 'COMMANDER', 'INDUSTRIAL', 'JINYUN CTY', 'MARQUIS',\n",
      "       'TRACKERATV', 'TRACKERPTV', 'ARCTICCAT', 'HUZHOU DAI', 'GAS GAS',\n",
      "       'FREIGHTLINER', 'IMPERIAL', 'GRAY DORTS', 'TRACKER AT',\n",
      "       'TRACKER SX', 'CMOTO', 'JIANGSU', 'MOBILITY VENTURES', 'WHIPPET',\n",
      "       'ANGLIA', 'STEYR PUCH', 'REO', '2024', 'WILLY', 'TAO', 'GL MOTOR',\n",
      "       'PIERCE', 'SSANGYONG', 'HINDUSTAN', 'VINFAST', 'MAYBACH',\n",
      "       'COROLLA', 'GLOBAL ELECTRIC MOTORS', 'SEARS', 'ALLARD', 'BRISTOL',\n",
      "       'KARMA', 'FISKER', 'MOBI', 'SKODA', 'COMMER', 'EUNOS', 'CATERHAM',\n",
      "       'OPEL', 'BUGATTI', 'GAZ', 'MAXI TAXI', 'BORGWARD', 'CONTINENTAL',\n",
      "       'MERCEDES B', 'ALPHARD', 'WELCH', 'PANTHER',\n",
      "       'ASTON MARTIN TRUCK/VAN', 'BECK', 'SHELBY', 'RELIANT', 'HMC',\n",
      "       'SUPERFORMA', 'AMC', 'NSU', 'VFAST', 'GAZELE', 'SHELBY AMERICAN',\n",
      "       'BIRKIN', 'CADDY', 'ARTONE', 'VAUXHALL', 'DURANT', 'MISTUBISHI',\n",
      "       'CANEV', 'SM', 'RAM', 'GM', 'ZASTAVA', 'SKI=DOO', 'BOMBADIER',\n",
      "       'RAZOR', 'A BARFORD', 'LENCO', 'TUNDRA', 'DYNASTY MOTORCAR', 'ARO',\n",
      "       'TORO', 'ASUNA', 'TALBOT', 'ISETTA', 'MODIFIED-B', 'HENRY J',\n",
      "       'YUGO', 'INTRM', 'YAM', 'HUMBER', 'ACADIAN'], dtype=object)\n"
     ]
    }
   ],
   "source": [
    "misspelt: dict = {\n",
    "    'PORSHE': 'PORSCHE',\n",
    "    'LAMBORGHIN': 'LAMBORGHINI',\n",
    "    'TOYOYA': 'TOYOTA',\n",
    "    'TOTOYA' : 'TOYOTA',\n",
    "    'TOOYTA' : 'TOYOTA',\n",
    "    'MECEDES': 'MERCEDES-BENZ',\n",
    "    'MERCEDES' : 'MERCEDES-BENZ',\n",
    "    'MERDECES' : 'MERCEDES-BENZ',\n",
    "    'MERCEDSBNZ' : 'MERCEDES-BENZ',\n",
    "    'YAHAMA': 'YAMAHA',\n",
    "    'YAHMA' : 'YAMAHA',\n",
    "    'INTERNATIO': 'INTERNATIONAL',\n",
    "    'FERARRI' : 'FERRARI',\n",
    "    'MITSHUBISH' : 'MITSUBISHI',\n",
    "    'MITSHU' : 'MITSUBISHI',\n",
    "    'CHEVEROLET' : 'CHEVROLET',\n",
    "    'CHERVOLET' : 'CHEVROLET',\n",
    "    'CHEV' : 'CHEVROLET',\n",
    "    'CHEVY' : 'CHEVROLET',\n",
    "    'DATSUN': 'NISSAN',\n",
    "    'DATSUN/NISSAN' : 'NISSAN',\n",
    "    'ROLLS ROYC' : 'ROLLS ROYCE', \n",
    "    'JOHNDEERE' : 'JOHN DEERE',\n",
    "    'ALFA': 'ALFA ROMEO',\n",
    "    'ASTON MART' : 'ASTON MARTIN',\n",
    "    'TELSA': 'TESLA'\n",
    "}\n",
    "\n",
    "vehicle_df['Make'] = vehicle_df['Make'].map(misspelt).fillna(vehicle_df['Make'])\n",
    "makes = vehicle_df['Make'].unique()\n",
    "print(f\"Cleaned makes length = {len(makes)} and {makes=}\")"
   ]
  },
  {
   "cell_type": "code",
   "execution_count": 35,
   "id": "d72fb703-8d35-4535-a397-dd165d5bc80d",
   "metadata": {},
   "outputs": [
    {
     "data": {
      "text/plain": [
       "\"\\ntruckvan = brand.split()\\nif truckvan[1] == 'truck/van':\\n    brand = truckvan[0]\\n\""
      ]
     },
     "execution_count": 35,
     "metadata": {},
     "output_type": "execute_result"
    }
   ],
   "source": [
    "\"\"\"\n",
    "confusion with switching model names and brands.\n",
    "'corolla': 'toyota',\n",
    "'outback' : 'subaru',\n",
    "'ALPHARD' : 'TOYOTA'\n",
    "'isetta': 'bmw',\n",
    "    'capri': 'ford',\n",
    "    'tundra' : 'toyota',\n",
    "    'anglia' : 'ford',\n",
    "        'maverick' : 'ford',\n",
    "    'edsel' : 'ford'\n",
    "    'eunos' : 'mazda'\n",
    "\"\"\"\n",
    "\"\"\"\n",
    "truckvan = brand.split()\n",
    "if truckvan[1] == 'truck/van':\n",
    "    brand = truckvan[0]\n",
    "\"\"\""
   ]
  }
 ],
 "metadata": {
  "kernelspec": {
   "display_name": "Python 3 (ipykernel)",
   "language": "python",
   "name": "python3"
  },
  "language_info": {
   "codemirror_mode": {
    "name": "ipython",
    "version": 3
   },
   "file_extension": ".py",
   "mimetype": "text/x-python",
   "name": "python",
   "nbconvert_exporter": "python",
   "pygments_lexer": "ipython3",
   "version": "3.11.10"
  }
 },
 "nbformat": 4,
 "nbformat_minor": 5
}
