{
 "cells": [
  {
   "cell_type": "markdown",
   "id": "c87543a0-7bb6-45f5-adbc-b605423dc4d7",
   "metadata": {},
   "source": [
    "# ICBC 2023 Lower Mainland vehicle dataset"
   ]
  },
  {
   "cell_type": "markdown",
   "id": "7725930a-ca39-4c2d-bbf8-f133de1ee4d9",
   "metadata": {},
   "source": [
    "## Source"
   ]
  },
  {
   "cell_type": "code",
   "execution_count": 10,
   "id": "b0f4abf1-4ea1-4e12-9a01-1bb3fc29e4d3",
   "metadata": {},
   "outputs": [],
   "source": [
    "import matplotlib.pyplot as plt\n",
    "import numpy as np\n",
    "import os\n",
    "import pandas as pd\n",
    "import seaborn as sns"
   ]
  },
  {
   "cell_type": "code",
   "execution_count": 11,
   "id": "9155c889-3396-4053-843d-b3fedbf79b56",
   "metadata": {},
   "outputs": [
    {
     "name": "stdout",
     "output_type": "stream",
     "text": [
      "  Veh Pop - Criteria Selector Vehicle Use Anti Theft Device Indicator  \\\n",
      "0              Lower Mainland    Business                          No   \n",
      "1              Lower Mainland    Business                          No   \n",
      "\n",
      "             Body Style Electric_Vehicle_Indicator Fleet Vehicle Indicator  \\\n",
      "0         Fourdoorsedan                         No                      No   \n",
      "1  Fourdoorstationwagon                         No                      No   \n",
      "\n",
      "  Fuel Type Hybrid Vehicle Indicator        Make                Model  \\\n",
      "0    Diesel                       No  VOLKSWAGEN  RABBIT OTHER MODELS   \n",
      "1    Diesel                       No      TOYOTA   LAND CRUISER WAGON   \n",
      "\n",
      "   Model Year Municipality             Owner Type          Region  \\\n",
      "0        1978      Langley  External organization  Lower Mainland   \n",
      "1        1991      Burnaby  External organization  Lower Mainland   \n",
      "\n",
      "   Vehicle Count  \n",
      "0              1  \n",
      "1              1  \n",
      "This dataset contains the following columns ['Veh Pop - Criteria Selector', 'Vehicle Use', 'Anti Theft Device Indicator', 'Body Style', 'Electric_Vehicle_Indicator', 'Fleet Vehicle Indicator', 'Fuel Type', 'Hybrid Vehicle Indicator', 'Make', 'Model', 'Model Year', 'Municipality', 'Owner Type', 'Region', 'Vehicle Count']\n",
      "Data set shape 719144 rows x 15 cols\n"
     ]
    }
   ],
   "source": [
    " # Check if file path is valid.\n",
    "file_path = './icbc/Vehicle Population - 2023 Passenger Vehicles_Full _data.csv'\n",
    "if not os.path.isfile(file_path):\n",
    "    fnf_err = f'{file_path} not found.'\n",
    "    raise FileNotFoundError(fnf_err)\n",
    "\n",
    "vehicle_df = pd.read_csv(file_path)\n",
    "\n",
    "# Take a peek at the first couple of rows in the dataset.\n",
    "print(vehicle_df.head(2))\n",
    "\n",
    "dataset_columns = vehicle_df.columns.tolist()\n",
    "print(f\"This dataset contains the following columns {dataset_columns}\")\n",
    "\n",
    "num_rows, num_cols = vehicle_df.shape\n",
    "print(f\"Data set shape {num_rows} rows x {num_cols} cols\")"
   ]
  },
  {
   "cell_type": "markdown",
   "id": "8f1d3141-a9ef-4838-83ce-6e31252eddf9",
   "metadata": {},
   "source": [
    "# Initial comments\n",
    "This dataset contains redundant columns. We specifically set the criteria to Lower Mainland vehicles on ICBC's data portal. We can get rid of the columns 'Veh Pop - Criteria Selector' and 'Region'."
   ]
  },
  {
   "cell_type": "code",
   "execution_count": 12,
   "id": "dbabeeb8-227b-4f7e-a798-e06d217adc5a",
   "metadata": {},
   "outputs": [
    {
     "name": "stdout",
     "output_type": "stream",
     "text": [
      "This dataset contains the following columns ['Vehicle Use', 'Anti Theft Device Indicator', 'Body Style', 'Electric_Vehicle_Indicator', 'Fleet Vehicle Indicator', 'Fuel Type', 'Hybrid Vehicle Indicator', 'Make', 'Model', 'Model Year', 'Municipality', 'Owner Type', 'Vehicle Count']\n",
      "Data set shape 719144 rows x 13 cols\n"
     ]
    }
   ],
   "source": [
    "vehicle_df.drop(['Veh Pop - Criteria Selector', 'Region'], axis=1, inplace=True)\n",
    "\n",
    "dataset_columns = vehicle_df.columns.tolist()\n",
    "print(f\"This dataset contains the following columns {dataset_columns}\")\n",
    "\n",
    "num_rows, num_cols = vehicle_df.shape\n",
    "print(f\"Data set shape {num_rows} rows x {num_cols} cols\")\n",
    "assert num_cols == 13, \"Columns delete failed.\""
   ]
  },
  {
   "cell_type": "markdown",
   "id": "a8249297-444d-4372-87fe-3ada505e5d61",
   "metadata": {},
   "source": [
    "# Exploratory Data Analysis\n",
    "Here we take a quick look at each column to see if there's any obvious redundancies (if all values for col C are 'xyz', then there's isn't much to be investigated in col C)"
   ]
  },
  {
   "cell_type": "code",
   "execution_count": 13,
   "id": "c023c5a4-357e-44e2-af30-cd1b044a7c6a",
   "metadata": {},
   "outputs": [
    {
     "name": "stdout",
     "output_type": "stream",
     "text": [
      "Examining column Vehicle Use\n",
      "3\n",
      "Examining column Anti Theft Device Indicator\n",
      "2\n",
      "Examining column Body Style\n",
      "24\n",
      "Examining column Electric_Vehicle_Indicator\n",
      "2\n",
      "Examining column Fleet Vehicle Indicator\n",
      "2\n",
      "Examining column Fuel Type\n",
      "18\n",
      "Examining column Hybrid Vehicle Indicator\n",
      "2\n",
      "Examining column Make\n",
      "427\n",
      "Examining column Model\n",
      "9496\n",
      "Examining column Model Year\n",
      "116\n",
      "Examining column Municipality\n",
      "54\n",
      "Examining column Owner Type\n",
      "2\n",
      "Examining column Vehicle Count\n",
      "284\n"
     ]
    }
   ],
   "source": [
    "for c in dataset_columns:\n",
    "    print(f\"Examining column {c}\")\n",
    "    # Find unique values in this column.\n",
    "    uniques = vehicle_df[c].unique()\n",
    "    print(len(uniques))"
   ]
  },
  {
   "cell_type": "markdown",
   "id": "b1463cf4-eaf0-4072-8bbf-262b29130aa4",
   "metadata": {},
   "source": [
    "# Comments\n",
    "- There are 3 categories for vehicle use. We'll have to dig into that later.\n",
    "- There are 2 categories for anti theft device indicator. This is likely a Boolean field. A vehicle either has an anti theft device or it does not.\n",
    "- There are 24 body styles. We'll have to dig into that later.\n",
    "- There are 2 categories for electric vehicle indicator. This must be a Boolean field for obvious reasons. We'll have to check if a hybrid (Battery Electric Vehicle - BEV) and a PHEV (Plug-in Electric Vehicle) are declared as electric vehicles or not.\n",
    "- There are 2 categories for fleet vehicle indicator. This is definitely a Boolean field.\n",
    "- There are 18 categories for fuel type, which is more than we anticipated (diesel, gasoline, electric, LPG).\n",
    "- There are 427 vehicle makes, which seems too high a number. We'll have to dig into that - are the makes misspelled or sometimes present as acronyms and sometimes in full?\n",
    "- There are 9496 models. This seems slightly too many. We'll have to take a look later.\n",
    "- There are 116 model years, which is unexpected. We don't expect the years to span more than 50/60 years.\n",
    "- There are 54 municipalities, which is expected for the Lower Mainland.\n",
    "- There are 2 types of owners.\n",
    "- At most, there are 284 different values for vehicle count."
   ]
  },
  {
   "cell_type": "code",
   "execution_count": null,
   "id": "44284ee7-8900-44d0-b366-daac47fc0c72",
   "metadata": {},
   "outputs": [],
   "source": []
  }
 ],
 "metadata": {
  "kernelspec": {
   "display_name": "Python 3 (ipykernel)",
   "language": "python",
   "name": "python3"
  },
  "language_info": {
   "codemirror_mode": {
    "name": "ipython",
    "version": 3
   },
   "file_extension": ".py",
   "mimetype": "text/x-python",
   "name": "python",
   "nbconvert_exporter": "python",
   "pygments_lexer": "ipython3",
   "version": "3.11.10"
  }
 },
 "nbformat": 4,
 "nbformat_minor": 5
}
