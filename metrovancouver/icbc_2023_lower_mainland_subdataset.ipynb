{
 "cells": [
  {
   "cell_type": "markdown",
   "id": "68c99232-2743-40db-90c8-3d011da1f55c",
   "metadata": {},
   "source": [
    "# ICBC 2023 Lower Mainland Dataset - EDA and data cleaning 2"
   ]
  },
  {
   "cell_type": "code",
   "execution_count": 17,
   "id": "e5c14e4a-1a05-4bdc-8344-b65ac1813e5e",
   "metadata": {},
   "outputs": [],
   "source": [
    "import matplotlib.pyplot as plt\n",
    "import numpy as np\n",
    "import os\n",
    "import pandas as pd"
   ]
  },
  {
   "cell_type": "code",
   "execution_count": 18,
   "id": "a96a4017-87c8-4ac3-a2bd-184238852b95",
   "metadata": {},
   "outputs": [
    {
     "name": "stdout",
     "output_type": "stream",
     "text": [
      "  Vehicle Use Anti Theft Device Indicator            Body Style  \\\n",
      "0    Business                          No         Fourdoorsedan   \n",
      "1    Business                          No  Fourdoorstationwagon   \n",
      "\n",
      "  Electric_Vehicle_Indicator Fleet Vehicle Indicator Fuel Type  \\\n",
      "0                         No                      No    Diesel   \n",
      "1                         No                      No    Diesel   \n",
      "\n",
      "  Hybrid Vehicle Indicator        Make                Model  Model Year  \\\n",
      "0                       No  VOLKSWAGEN  RABBIT OTHER MODELS        1978   \n",
      "1                       No      TOYOTA   LAND CRUISER WAGON        1991   \n",
      "\n",
      "  Municipality             Owner Type  Vehicle Count  \n",
      "0      Langley  External organization              1  \n",
      "1      Burnaby  External organization              1  \n",
      "This dataset contains the following columns ['Vehicle Use', 'Anti Theft Device Indicator', 'Body Style', 'Electric_Vehicle_Indicator', 'Fleet Vehicle Indicator', 'Fuel Type', 'Hybrid Vehicle Indicator', 'Make', 'Model', 'Model Year', 'Municipality', 'Owner Type', 'Vehicle Count']\n",
      "Data set shape 719144 rows x 13 cols\n"
     ]
    }
   ],
   "source": [
    " # Check if file path is valid.\n",
    "file_path = './icbc/Vehicle Population - 2023 Passenger Vehicles_Makes_cleaned.csv'\n",
    "\n",
    "if not os.path.isfile(file_path):\n",
    "    fnf_err = f'{file_path} not found.'\n",
    "    raise FileNotFoundError(fnf_err)\n",
    "\n",
    "vehicle_df = pd.read_csv(file_path)\n",
    "# Take a peek at the first couple of rows in the dataset.\n",
    "print(vehicle_df.head(2))\n",
    "\n",
    "dataset_columns = vehicle_df.columns.tolist()\n",
    "print(f\"This dataset contains the following columns {dataset_columns}\")\n",
    "\n",
    "num_rows, num_cols = vehicle_df.shape\n",
    "print(f\"Data set shape {num_rows} rows x {num_cols} cols\")"
   ]
  },
  {
   "cell_type": "markdown",
   "id": "266f85eb-facd-4885-b536-2466ba1002f5",
   "metadata": {},
   "source": [
    "## Exploratory Data Analysis\n",
    "- Comment on the number of rows and the columns."
   ]
  },
  {
   "cell_type": "code",
   "execution_count": 19,
   "id": "9f58ab3e-e7a2-4fe3-af24-302c5dbb6573",
   "metadata": {},
   "outputs": [
    {
     "name": "stdout",
     "output_type": "stream",
     "text": [
      "oldest and newest are 1908, 2024\n",
      "Model years = [1978 1991 1997 1998 2006 2011 2005 1993 1994 2015 1964 1996 1999 2001\n",
      " 2003 2004 2007 2009 2010 2012 2014 2018 1995 2000 2002 2016 2017 1990\n",
      " 1992 1966 1972 1981 1930 1965 1968 1986 1963 1969 1976 1980 1988 1970\n",
      " 1971 1967 2013 2021 2019 2024 2023 2022 2020 2008 1989 1987 1935 1959\n",
      " 1962 1979 1955 1973 1983 1950 1951 1982 1984 1985 1949 1952 1953 1956\n",
      " 1957 1958 1960 1928 1954 1974 1923 1947 1977 1929 1936 1933 1932 1937\n",
      " 1938 1939 1946 1948 1942 1961 1926 1975 1931 1934 1941 1927 1915 1940\n",
      " 1924 1909 1913 1908 1912 1920 1916 1925 1921 1944 1911 1943 1910 1918\n",
      " 1917 1922 1945 1914]\n",
      "Missing years = []\n"
     ]
    }
   ],
   "source": [
    "model_years = vehicle_df['Model Year'].unique()\n",
    "oldest, newest = min(model_years), max(model_years)\n",
    "print(f\"oldest and newest are {oldest}, {newest}\")\n",
    "all_years = [_ for _ in range(oldest, newest+1)]\n",
    "print(f\"Model years = {model_years}\")\n",
    "missing_years = [_ for _ in all_years if _ not in all_years]\n",
    "print(f\"Missing years = {missing_years}\")"
   ]
  },
  {
   "cell_type": "markdown",
   "id": "500fcbed-63fd-4083-ac3b-a24e8a31adbf",
   "metadata": {},
   "source": [
    "## Filtering the dataframe for Model year\n",
    "- We have 719144 number of rows. The oldest vehicles are from model year 1908.\n",
    "- For our analysis, we are interested in vehicles which are daily driven the most.\n",
    "- These are vehicles which are relatively not too old, mostly less than 20 years old.\n",
    "- We're in 2025, so we'll only consider vehicle years from 2005 to 2024."
   ]
  },
  {
   "cell_type": "code",
   "execution_count": 20,
   "id": "f180b595-fac1-4be6-bd61-25034d49b1a3",
   "metadata": {},
   "outputs": [
    {
     "name": "stdout",
     "output_type": "stream",
     "text": [
      "Data set shape 598987 rows x 13 cols\n"
     ]
    }
   ],
   "source": [
    "years_limits = (2005, 2024)\n",
    "years_df = vehicle_df.loc[(vehicle_df['Model Year'] >= years_limits[0]) & (vehicle_df['Model Year'] <= years_limits[1])]\n",
    "\n",
    "num_rows, num_cols = years_df.shape\n",
    "print(f\"Data set shape {num_rows} rows x {num_cols} cols\")"
   ]
  },
  {
   "cell_type": "markdown",
   "id": "11754e1a-c0dc-4858-9145-4df334540cde",
   "metadata": {},
   "source": [
    "## Filtering the dataframe for Body Style\n",
    "- Specialty vehicles aren't driven on a daily basis on public roads.\n",
    "- We therefore can exclude snowmobiles and similar vehicles."
   ]
  },
  {
   "cell_type": "code",
   "execution_count": 21,
   "id": "800f8982-c05f-4ba7-bd68-1a08d35fb1a5",
   "metadata": {},
   "outputs": [
    {
     "name": "stdout",
     "output_type": "stream",
     "text": [
      "Unique body styles = ['Fourdoorstationwagon' 'Twodoorfastback' 'Fourdoorcoupe'\n",
      " 'Fourdoorfastback' 'Fourdoorsedan' 'Snowmobile' 'Twodoorconvertible'\n",
      " 'Twodoorstationwagon' 'Lowspeedvehicle' 'Dualpurpose' 'Fourdoorhardtop'\n",
      " 'Hatchback' 'Twodoorcoupe' 'Golfcart' 'Wheeledatv' 'Twodoorsedan'\n",
      " 'Limousinepassenger' 'Sportconvertible' 'Threewheeled' 'Twodoorhardtop'\n",
      " 'Workutilitypassengervehicle' 'Fourdoorconvertible' 'Dunebuggy'\n",
      " 'Amphibiousvehicle']\n"
     ]
    }
   ],
   "source": [
    "bodystyles = years_df['Body Style'].unique()\n",
    "print(f\"Unique body styles = {bodystyles}\")"
   ]
  },
  {
   "cell_type": "markdown",
   "id": "dcc0f348-31aa-473f-aaf3-68519ccc7f2f",
   "metadata": {},
   "source": [
    "### filter out\n",
    "- Wheeledatv\n",
    "- Lowspeedvehicle\n",
    "- Snowmobile\n",
    "- Dualpurpose\n",
    "- Golfcart\n",
    "- Dunebuggy\n",
    "- Amphibiousvehicle\n",
    "- Threewheeled\n",
    "- Limousinepassenger\n",
    "- Workutilityvehicle"
   ]
  },
  {
   "cell_type": "code",
   "execution_count": 22,
   "id": "e0963d8d-fd27-42e2-9e85-2e75520cbdae",
   "metadata": {},
   "outputs": [
    {
     "name": "stdout",
     "output_type": "stream",
     "text": [
      "Unique body styles = ['Fourdoorstationwagon' 'Twodoorfastback' 'Fourdoorcoupe'\n",
      " 'Fourdoorfastback' 'Fourdoorsedan' 'Twodoorconvertible'\n",
      " 'Twodoorstationwagon' 'Fourdoorhardtop' 'Hatchback' 'Twodoorcoupe'\n",
      " 'Twodoorsedan' 'Sportconvertible' 'Twodoorhardtop'\n",
      " 'Workutilitypassengervehicle' 'Fourdoorconvertible']\n",
      "Data set shape 586220 rows x 13 cols\n"
     ]
    }
   ],
   "source": [
    "rejected_bodystyles = ('Wheeledatv', 'Lowspeedvehicle', 'Snowmobile', 'Dualpurpose', 'Golfcart',\n",
    "                       'Dunebuggy', 'Amphibiousvehicle', 'Threewheeled', 'Limousinepassenger',\n",
    "                      'Workutilityvehicle')\n",
    "\n",
    "years_df = years_df.loc[~years_df['Body Style'].isin(rejected_bodystyles)]\n",
    "bodystyles = years_df['Body Style'].unique()\n",
    "print(f\"Unique body styles = {bodystyles}\")\n",
    "\n",
    "num_rows, num_cols = years_df.shape\n",
    "print(f\"Data set shape {num_rows} rows x {num_cols} cols\")"
   ]
  },
  {
   "cell_type": "markdown",
   "id": "c6b99413-cca5-43e1-b8d5-796f59d10ec0",
   "metadata": {},
   "source": [
    "## Fuel type and hybrid investigation\n",
    "- The hybrid vehicle indicator field is a Boolean field.\n",
    "- The fuel type field is a string field.\n",
    "- Let's see how these two fields relate to each other."
   ]
  },
  {
   "cell_type": "code",
   "execution_count": 23,
   "id": "12d4110c-9a63-46f4-bf27-a98f8920f551",
   "metadata": {},
   "outputs": [
    {
     "name": "stdout",
     "output_type": "stream",
     "text": [
      "hybrid_fuel_types=array(['Gasoline', 'Gasoline Electric', 'Electric', 'Multifuels',\n",
      "       'Gasoline Alcohol', 'Gasoline Natural Gas', 'Natural Gas',\n",
      "       'Butane', 'Diesel', 'Hydrogen', 'Diesel Natural Gas',\n",
      "       'Gasoline Propane'], dtype=object)\n"
     ]
    }
   ],
   "source": [
    "hybrids_df = years_df.loc[years_df['Hybrid Vehicle Indicator'] == 'Yes']\n",
    "hybrid_fuel_types = hybrids_df['Fuel Type'].unique()\n",
    "print(f\"{hybrid_fuel_types=}\")"
   ]
  },
  {
   "cell_type": "code",
   "execution_count": 24,
   "id": "c8d9f359-5392-425f-8aba-cae05cb5923d",
   "metadata": {},
   "outputs": [
    {
     "name": "stdout",
     "output_type": "stream",
     "text": [
      "       Vehicle Use Anti Theft Device Indicator            Body Style  \\\n",
      "556       Personal                          No  Fourdoorstationwagon   \n",
      "12069     Personal                         Yes  Fourdoorstationwagon   \n",
      "30585     Personal                         Yes         Fourdoorsedan   \n",
      "30586     Personal                         Yes         Fourdoorsedan   \n",
      "30587     Personal                         Yes         Fourdoorsedan   \n",
      "...            ...                         ...                   ...   \n",
      "684031    Personal                         Yes             Hatchback   \n",
      "684032    Personal                         Yes             Hatchback   \n",
      "684033    Personal                         Yes             Hatchback   \n",
      "690368    Business                         Yes  Fourdoorstationwagon   \n",
      "690527    Business                         Yes         Fourdoorsedan   \n",
      "\n",
      "       Electric_Vehicle_Indicator Fleet Vehicle Indicator Fuel Type  \\\n",
      "556                            No                      No  Electric   \n",
      "12069                          No                      No  Electric   \n",
      "30585                          No                      No  Electric   \n",
      "30586                          No                      No  Electric   \n",
      "30587                          No                      No  Electric   \n",
      "...                           ...                     ...       ...   \n",
      "684031                         No                      No  Electric   \n",
      "684032                         No                      No  Electric   \n",
      "684033                         No                      No  Electric   \n",
      "690368                         No                     Yes  Electric   \n",
      "690527                         No                     Yes  Electric   \n",
      "\n",
      "       Hybrid Vehicle Indicator        Make  \\\n",
      "556                         Yes       HONDA   \n",
      "12069                       Yes      SATURN   \n",
      "30585                       Yes      TOYOTA   \n",
      "30586                       Yes       HONDA   \n",
      "30587                       Yes      TOYOTA   \n",
      "...                         ...         ...   \n",
      "684031                      Yes     HYUNDAI   \n",
      "684032                      Yes         KIA   \n",
      "684033                      Yes         KIA   \n",
      "690368                      Yes  MITSUBISHI   \n",
      "690527                      Yes      TOYOTA   \n",
      "\n",
      "                                       Model  Model Year     Municipality  \\\n",
      "556              CR-V TOURING HYBRID 4DR AWD        2024     Pitt Meadows   \n",
      "12069          VUE GREEN LINE HYBRID 4DR 2WD        2007            Delta   \n",
      "30585                       CAMRY HYBRID 4DR        2007       Abbotsford   \n",
      "30586                    CLARITY PLUG-IN 4DR        2019            Delta   \n",
      "30587                     COROLLA HYBRID 4DR        2020          Langley   \n",
      "...                                      ...         ...              ...   \n",
      "684031  IONIQ SE ELECTRIC PLUS 4DR HATCHBACK        2018       Abbotsford   \n",
      "684032                    NIRO EX HYBRID 5DR        2018  North Vancouver   \n",
      "684033            NIRO SX TOURING HYBRID 5DR        2019  North Vancouver   \n",
      "690368           OUTLANDER GT HYBRID 4DR AWD        2024            Delta   \n",
      "690527                      CAMRY HYBRID 4DR        2009       Abbotsford   \n",
      "\n",
      "                   Owner Type  Vehicle Count  \n",
      "556                    Person              1  \n",
      "12069                  Person              1  \n",
      "30585                  Person              1  \n",
      "30586                  Person              1  \n",
      "30587                  Person              1  \n",
      "...                       ...            ...  \n",
      "684031                 Person              1  \n",
      "684032                 Person              1  \n",
      "684033                 Person              1  \n",
      "690368  External organization              1  \n",
      "690527                 Person              1  \n",
      "\n",
      "[829 rows x 13 columns]\n"
     ]
    }
   ],
   "source": [
    "# Check if there's an error in hybrid with Fuel Type = 'Electric'\n",
    "print(hybrids_df[hybrids_df['Fuel Type'] == 'Electric'])"
   ]
  },
  {
   "cell_type": "markdown",
   "id": "dd9404e1-60b9-4dec-bcd6-0e7c4d73da3c",
   "metadata": {},
   "source": [
    "## Hybrid vehicles fuel type\n",
    "- It seems that there was some confusion between gasoline hybrid vehicles (you only put in gasoline) and gasoline PHEVs/plug-ins (you put in both gasoline and electricity).\n",
    "- To fix this field, we can use our subject matter knowledge. Honda made only one PHEV - the Clarity. If Clarity does not appear in the Model string, then it's a regular gasoline hybrid. Toyota makes two PHEVs, the Rav4 Prime/Plug In and the Prius Prime/Plug In. Unfortunately, these also come with regular gasoline hybrid powetrains. Other Toyotas must be regular gasoline hybrids. "
   ]
  },
  {
   "cell_type": "code",
   "execution_count": null,
   "id": "2ef840a0-bc22-42a4-a62c-79d3f7b98fb5",
   "metadata": {},
   "outputs": [],
   "source": []
  }
 ],
 "metadata": {
  "kernelspec": {
   "display_name": "Python 3 (ipykernel)",
   "language": "python",
   "name": "python3"
  },
  "language_info": {
   "codemirror_mode": {
    "name": "ipython",
    "version": 3
   },
   "file_extension": ".py",
   "mimetype": "text/x-python",
   "name": "python",
   "nbconvert_exporter": "python",
   "pygments_lexer": "ipython3",
   "version": "3.11.10"
  }
 },
 "nbformat": 4,
 "nbformat_minor": 5
}
