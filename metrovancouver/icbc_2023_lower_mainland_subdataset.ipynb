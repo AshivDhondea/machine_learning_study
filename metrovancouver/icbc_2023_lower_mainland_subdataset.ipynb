{
 "cells": [
  {
   "cell_type": "markdown",
   "id": "68c99232-2743-40db-90c8-3d011da1f55c",
   "metadata": {},
   "source": [
    "# ICBC 2023 Lower Mainland Dataset - EDA and data cleaning 2"
   ]
  },
  {
   "cell_type": "code",
   "execution_count": 1,
   "id": "e5c14e4a-1a05-4bdc-8344-b65ac1813e5e",
   "metadata": {},
   "outputs": [],
   "source": [
    "import matplotlib.pyplot as plt\n",
    "import numpy as np\n",
    "import os\n",
    "import pandas as pd"
   ]
  },
  {
   "cell_type": "code",
   "execution_count": 2,
   "id": "a96a4017-87c8-4ac3-a2bd-184238852b95",
   "metadata": {},
   "outputs": [
    {
     "name": "stderr",
     "output_type": "stream",
     "text": [
      "C:\\Users\\ashiv\\AppData\\Local\\Temp\\ipykernel_12652\\1754314072.py:8: DtypeWarning: Columns (13,14) have mixed types. Specify dtype option on import or set low_memory=False.\n",
      "  vehicle_df = pd.read_csv(file_path)\n"
     ]
    },
    {
     "name": "stdout",
     "output_type": "stream",
     "text": [
      "  Vehicle Use Anti Theft Device Indicator            Body Style  \\\n",
      "0    Business                          No         Fourdoorsedan   \n",
      "1    Business                          No  Fourdoorstationwagon   \n",
      "\n",
      "  Electric_Vehicle_Indicator Fleet Vehicle Indicator Fuel Type  \\\n",
      "0                         No                      No    Diesel   \n",
      "1                         No                      No    Diesel   \n",
      "\n",
      "  Hybrid Vehicle Indicator        Make                Model  Model Year  \\\n",
      "0                       No  VOLKSWAGEN  RABBIT OTHER MODELS        1978   \n",
      "1                       No      TOYOTA   LAND CRUISER WAGON        1991   \n",
      "\n",
      "  Municipality             Owner Type  Vehicle Count MAKE MODEL  \n",
      "0      Langley  External organization              1  NaN   NaN  \n",
      "1      Burnaby  External organization              1  NaN   NaN  \n",
      "This dataset contains the following columns ['Vehicle Use', 'Anti Theft Device Indicator', 'Body Style', 'Electric_Vehicle_Indicator', 'Fleet Vehicle Indicator', 'Fuel Type', 'Hybrid Vehicle Indicator', 'Make', 'Model', 'Model Year', 'Municipality', 'Owner Type', 'Vehicle Count', 'MAKE', 'MODEL']\n",
      "Data set shape 719144 rows x 15 cols\n"
     ]
    }
   ],
   "source": [
    " # Check if file path is valid.\n",
    "file_path = './icbc/Vehicle Population - 2023 Passenger Vehicles_Makes_cleaned.csv'\n",
    "\n",
    "if not os.path.isfile(file_path):\n",
    "    fnf_err = f'{file_path} not found.'\n",
    "    raise FileNotFoundError(fnf_err)\n",
    "\n",
    "vehicle_df = pd.read_csv(file_path)\n",
    "# Take a peek at the first couple of rows in the dataset.\n",
    "print(vehicle_df.head(2))\n",
    "\n",
    "dataset_columns = vehicle_df.columns.tolist()\n",
    "print(f\"This dataset contains the following columns {dataset_columns}\")\n",
    "\n",
    "num_rows, num_cols = vehicle_df.shape\n",
    "print(f\"Data set shape {num_rows} rows x {num_cols} cols\")"
   ]
  },
  {
   "cell_type": "markdown",
   "id": "266f85eb-facd-4885-b536-2466ba1002f5",
   "metadata": {},
   "source": [
    "## Exploratory Data Analysis\n",
    "- Comment on the number of rows and the columns."
   ]
  },
  {
   "cell_type": "code",
   "execution_count": 3,
   "id": "9f58ab3e-e7a2-4fe3-af24-302c5dbb6573",
   "metadata": {},
   "outputs": [
    {
     "name": "stdout",
     "output_type": "stream",
     "text": [
      "oldest and newest are 1908, 2024\n",
      "Model years = [1978 1991 1997 1998 2006 2011 2005 1993 1994 2015 1964 1996 1999 2001\n",
      " 2003 2004 2007 2009 2010 2012 2014 2018 1995 2000 2002 2016 2017 1990\n",
      " 1992 1966 1972 1981 1930 1965 1968 1986 1963 1969 1976 1980 1988 1970\n",
      " 1971 1967 2013 2021 2019 2024 2023 2022 2020 2008 1989 1987 1935 1959\n",
      " 1962 1979 1955 1973 1983 1950 1951 1982 1984 1985 1949 1952 1953 1956\n",
      " 1957 1958 1960 1928 1954 1974 1923 1947 1977 1929 1936 1933 1932 1937\n",
      " 1938 1939 1946 1948 1942 1961 1926 1975 1931 1934 1941 1927 1915 1940\n",
      " 1924 1909 1913 1908 1912 1920 1916 1925 1921 1944 1911 1943 1910 1918\n",
      " 1917 1922 1945 1914]\n",
      "Missing years = []\n"
     ]
    }
   ],
   "source": [
    "model_years = vehicle_df['Model Year'].unique()\n",
    "oldest, newest = min(model_years), max(model_years)\n",
    "print(f\"oldest and newest are {oldest}, {newest}\")\n",
    "all_years = [_ for _ in range(oldest, newest+1)]\n",
    "print(f\"Model years = {model_years}\")\n",
    "missing_years = [_ for _ in all_years if _ not in all_years]\n",
    "print(f\"Missing years = {missing_years}\")"
   ]
  },
  {
   "cell_type": "markdown",
   "id": "500fcbed-63fd-4083-ac3b-a24e8a31adbf",
   "metadata": {},
   "source": [
    "## Filtering the dataframe for Model year\n",
    "- We have x number of rows. The oldest vehicles are from model year .\n",
    "- For our analysis, we are interested in vehicles which are daily driven the most.\n",
    "- These are vehicles which are relatively not too old, mostly less than 20 years old. To be a little more broad, we can increase this to 30 years old."
   ]
  },
  {
   "cell_type": "code",
   "execution_count": null,
   "id": "f180b595-fac1-4be6-bd61-25034d49b1a3",
   "metadata": {},
   "outputs": [],
   "source": []
  }
 ],
 "metadata": {
  "kernelspec": {
   "display_name": "Python 3 (ipykernel)",
   "language": "python",
   "name": "python3"
  },
  "language_info": {
   "codemirror_mode": {
    "name": "ipython",
    "version": 3
   },
   "file_extension": ".py",
   "mimetype": "text/x-python",
   "name": "python",
   "nbconvert_exporter": "python",
   "pygments_lexer": "ipython3",
   "version": "3.11.10"
  }
 },
 "nbformat": 4,
 "nbformat_minor": 5
}
