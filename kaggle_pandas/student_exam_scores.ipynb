{
 "cells": [
  {
   "cell_type": "markdown",
   "id": "94def0ca-6c78-47b9-98da-e4f682aafc3a",
   "metadata": {},
   "source": [
    "# Data Analysis on Kaggle Student Exam Scores dataset\n",
    "## Source\n",
    "The dataset can be found on [Kaggle](https://www.kaggle.com/datasets/desalegngeb/students-exam-scores).\n",
    "## Objective\n",
    "Our objective here is to practise loading CSV data, cleaning it and analyzing it using Pandas."
   ]
  },
  {
   "cell_type": "code",
   "execution_count": 12,
   "id": "da5ccf25-fcd0-4308-a530-13f8b1a229b3",
   "metadata": {},
   "outputs": [],
   "source": [
    "import matplotlib.pyplot as plt\n",
    "import numpy as np\n",
    "import os\n",
    "import pandas as pd\n",
    "\n",
    "import sys\n",
    "sys.path.append('..')\n",
    "from utils.data_io import check_file"
   ]
  },
  {
   "cell_type": "code",
   "execution_count": 13,
   "id": "a99144ce-0cce-4e4e-afc2-09d495e71a91",
   "metadata": {},
   "outputs": [],
   "source": [
    "original_data_path = './datasets/student_exam_scores/Original_data_with_more_rows.csv'\n",
    "expanded_data_path = './datasets/student_exam_scores/Expanded_data_with_more_features.csv'\n",
    "\n",
    "# Check if these are valid file paths.\n",
    "check_file(original_data_path)\n",
    "check_file(expanded_data_path)"
   ]
  },
  {
   "cell_type": "code",
   "execution_count": 14,
   "id": "170a68c3-3e14-490e-8df6-dc852c9fbd0e",
   "metadata": {},
   "outputs": [
    {
     "name": "stdout",
     "output_type": "stream",
     "text": [
      "Original dataframe shape (30641, 9)\n",
      "Original dataframe columns ['Unnamed: 0', 'Gender', 'EthnicGroup', 'ParentEduc', 'LunchType', 'TestPrep', 'MathScore', 'ReadingScore', 'WritingScore']\n",
      "Expanded dataframe shape (30641, 15)\n",
      "Expanded dataframe columns Index(['Unnamed: 0', 'Gender', 'EthnicGroup', 'ParentEduc', 'LunchType',\n",
      "       'TestPrep', 'ParentMaritalStatus', 'PracticeSport', 'IsFirstChild',\n",
      "       'NrSiblings', 'TransportMeans', 'WklyStudyHours', 'MathScore',\n",
      "       'ReadingScore', 'WritingScore'],\n",
      "      dtype='object')\n"
     ]
    }
   ],
   "source": [
    "original_df = pd.read_csv(original_data_path)\n",
    "print(f\"Original dataframe shape {original_df.shape}\")\n",
    "original_columns = original_df.columns.tolist()\n",
    "print(f\"Original dataframe columns {original_columns}\")\n",
    "\n",
    "expanded_df = pd.read_csv(expanded_data_path)\n",
    "print(f\"Expanded dataframe shape {expanded_df.shape}\")\n",
    "print(f\"Expanded dataframe columns {expanded_df.columns}\")"
   ]
  },
  {
   "cell_type": "markdown",
   "id": "d30fc56e-8326-416d-bd03-9e485ad761c2",
   "metadata": {},
   "source": [
    "## Initial comments\n",
    "- While both datasets contain the same number of rows, they don't have the same number of columns. The second dataset has additional columns/features.\n",
    "- They both have an index column, which may be dropped later on.\n",
    "- Column names are shortened in both datasets, so they may be re-named later on."
   ]
  },
  {
   "cell_type": "code",
   "execution_count": 15,
   "id": "cf57af64-6898-4542-a3d9-e535abcdbd7c",
   "metadata": {},
   "outputs": [
    {
     "name": "stdout",
     "output_type": "stream",
     "text": [
      "   Unnamed: 0  Gender EthnicGroup          ParentEduc     LunchType TestPrep  \\\n",
      "0           0  female         NaN   bachelor's degree      standard     none   \n",
      "1           1  female     group C        some college      standard      NaN   \n",
      "2           2  female     group B     master's degree      standard     none   \n",
      "3           3    male     group A  associate's degree  free/reduced     none   \n",
      "4           4    male     group C        some college      standard     none   \n",
      "\n",
      "  ParentMaritalStatus PracticeSport IsFirstChild  NrSiblings TransportMeans  \\\n",
      "0             married     regularly          yes         3.0     school_bus   \n",
      "1             married     sometimes          yes         0.0            NaN   \n",
      "2              single     sometimes          yes         4.0     school_bus   \n",
      "3             married         never           no         1.0            NaN   \n",
      "4             married     sometimes          yes         0.0     school_bus   \n",
      "\n",
      "  WklyStudyHours  MathScore  ReadingScore  WritingScore  \n",
      "0            < 5         71            71            74  \n",
      "1         5 - 10         69            90            88  \n",
      "2            < 5         87            93            91  \n",
      "3         5 - 10         45            56            42  \n",
      "4         5 - 10         76            78            75  \n",
      "<class 'pandas.core.frame.DataFrame'>\n",
      "RangeIndex: 30641 entries, 0 to 30640\n",
      "Data columns (total 15 columns):\n",
      " #   Column               Non-Null Count  Dtype  \n",
      "---  ------               --------------  -----  \n",
      " 0   Unnamed: 0           30641 non-null  int64  \n",
      " 1   Gender               30641 non-null  object \n",
      " 2   EthnicGroup          28801 non-null  object \n",
      " 3   ParentEduc           28796 non-null  object \n",
      " 4   LunchType            30641 non-null  object \n",
      " 5   TestPrep             28811 non-null  object \n",
      " 6   ParentMaritalStatus  29451 non-null  object \n",
      " 7   PracticeSport        30010 non-null  object \n",
      " 8   IsFirstChild         29737 non-null  object \n",
      " 9   NrSiblings           29069 non-null  float64\n",
      " 10  TransportMeans       27507 non-null  object \n",
      " 11  WklyStudyHours       29686 non-null  object \n",
      " 12  MathScore            30641 non-null  int64  \n",
      " 13  ReadingScore         30641 non-null  int64  \n",
      " 14  WritingScore         30641 non-null  int64  \n",
      "dtypes: float64(1), int64(4), object(10)\n",
      "memory usage: 3.5+ MB\n",
      "None\n"
     ]
    }
   ],
   "source": [
    "print(expanded_df.head(5))\n",
    "print(expanded_df.info())"
   ]
  },
  {
   "cell_type": "markdown",
   "id": "3d5e197a-830f-420e-b70e-c45313fa6b5d",
   "metadata": {},
   "source": [
    "## Compare the two datasets\n",
    "- We can check if the common columns of these two datasets are equal."
   ]
  },
  {
   "cell_type": "code",
   "execution_count": 16,
   "id": "5c3f681e-9a6d-4fd1-8858-85a8c6c29879",
   "metadata": {},
   "outputs": [
    {
     "name": "stdout",
     "output_type": "stream",
     "text": [
      "Are the common columns equal? False\n"
     ]
    }
   ],
   "source": [
    "expanded_df_selected = expanded_df.isin(original_columns)\n",
    "print(f\"Are the common columns equal? {original_df.equals(expanded_df_selected)}\")"
   ]
  },
  {
   "cell_type": "markdown",
   "id": "79c04f9b-9f87-4e7c-ad51-59d7eee1a2f5",
   "metadata": {},
   "source": [
    "## Delete redundant columns\n",
    "- The first column is the index. We don't need it, so we can get rid of it."
   ]
  },
  {
   "cell_type": "code",
   "execution_count": 17,
   "id": "1b6f0c18-76ea-4f5f-8981-6c821dd88583",
   "metadata": {},
   "outputs": [],
   "source": [
    "expanded_df = expanded_df.drop(columns=['Unnamed: 0'])"
   ]
  },
  {
   "cell_type": "markdown",
   "id": "3ac6669a-8087-478e-9cca-66efa7d3cce0",
   "metadata": {},
   "source": [
    "## Drop duplicates"
   ]
  },
  {
   "cell_type": "code",
   "execution_count": null,
   "id": "d209be46-5435-4f0d-b06a-1b1c87888ad1",
   "metadata": {},
   "outputs": [],
   "source": []
  },
  {
   "cell_type": "markdown",
   "id": "a5b49e4f-9d4c-4d7a-96ef-9fbcb8851af6",
   "metadata": {},
   "source": [
    "## Fill in missing values in the dataset"
   ]
  },
  {
   "cell_type": "code",
   "execution_count": null,
   "id": "9b78078e-6d4c-404d-9044-1f35c8df16e3",
   "metadata": {},
   "outputs": [],
   "source": []
  },
  {
   "cell_type": "markdown",
   "id": "5abd97ec-1e5f-4621-969d-4752c8caac6d",
   "metadata": {},
   "source": [
    "## Make column names clear/verbose"
   ]
  },
  {
   "cell_type": "code",
   "execution_count": null,
   "id": "cfbeba86-da22-4e28-955e-d82ea1f8d849",
   "metadata": {},
   "outputs": [],
   "source": []
  },
  {
   "cell_type": "markdown",
   "id": "5d4a4587-d115-4dea-a10d-be96102e6048",
   "metadata": {},
   "source": [
    "## Visualize the data"
   ]
  },
  {
   "cell_type": "code",
   "execution_count": null,
   "id": "087448db-11ba-477b-8924-831a16e59642",
   "metadata": {},
   "outputs": [],
   "source": []
  },
  {
   "cell_type": "markdown",
   "id": "44cdac95-78cc-4400-ab2c-b42fa02b14bf",
   "metadata": {},
   "source": [
    "## Convert data"
   ]
  },
  {
   "cell_type": "code",
   "execution_count": null,
   "id": "019d333e-c3b4-417f-b878-e013d1cce9d6",
   "metadata": {},
   "outputs": [],
   "source": []
  },
  {
   "cell_type": "markdown",
   "id": "43b08f61-6849-403e-80f5-9fcd6cd9d479",
   "metadata": {},
   "source": [
    "## Save the cleaned dataframe"
   ]
  },
  {
   "cell_type": "code",
   "execution_count": null,
   "id": "e0219917-f525-46d3-bdba-69ee364fa273",
   "metadata": {},
   "outputs": [],
   "source": []
  },
  {
   "cell_type": "code",
   "execution_count": null,
   "id": "610bb7d9-b97b-48ef-be1e-ea7c910d709b",
   "metadata": {},
   "outputs": [],
   "source": []
  }
 ],
 "metadata": {
  "kernelspec": {
   "display_name": "Python 3 (ipykernel)",
   "language": "python",
   "name": "python3"
  },
  "language_info": {
   "codemirror_mode": {
    "name": "ipython",
    "version": 3
   },
   "file_extension": ".py",
   "mimetype": "text/x-python",
   "name": "python",
   "nbconvert_exporter": "python",
   "pygments_lexer": "ipython3",
   "version": "3.11.10"
  }
 },
 "nbformat": 4,
 "nbformat_minor": 5
}
